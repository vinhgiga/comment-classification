{
 "cells": [
  {
   "cell_type": "markdown",
   "id": "28e84f03",
   "metadata": {},
   "source": [
    "# <a id='toc1_'></a>Machine Learning: TFIDF + MultinomialNaiveBayes classification  [&#128522;](#toc0_)"
   ]
  },
  {
   "cell_type": "markdown",
   "id": "d5313bac",
   "metadata": {},
   "source": [
    "**Nội dung, Table of contents**<a id='toc0_'></a>    \n",
    "- [Machine Learning: TFIDF + MultinomialNaiveBayes classification ](#toc1_)    \n",
    "    - [Thiết lập, Setup ](#toc1_1_1_)    \n",
    "    - [Vectơ hóa văn bản với TfidfVectorizer, Text Vectorization with TfidfVectorizer ](#toc1_1_2_)    \n",
    "    - [Phân loại với Multinomial Naive Bayes, điều chỉnh siêu tham số và đánh giá mô hình <br>Multinomial Naive Bayes Classifier, Hyperparameter Tuning and Model Evaluation ](#toc1_1_3_)    \n",
    "    - [Dự đoán các lớp trên tập dữ liệu mới, Predicting Classes for New Data ](#toc1_1_4_)    \n",
    "\n",
    "<!-- vscode-jupyter-toc-config\n",
    "\tnumbering=false\n",
    "\tanchor=true\n",
    "\tflat=false\n",
    "\tminLevel=1\n",
    "\tmaxLevel=6\n",
    "\t/vscode-jupyter-toc-config -->\n",
    "<!-- THIS CELL WILL BE REPLACED ON TOC UPDATE. DO NOT WRITE YOUR TEXT IN THIS CELL -->"
   ]
  },
  {
   "cell_type": "markdown",
   "id": "efeb097f",
   "metadata": {},
   "source": [
    "### <a id='toc1_1_1_'></a>Thiết lập, Setup  [&#128522;](#toc0_)"
   ]
  },
  {
   "cell_type": "code",
   "execution_count": 1,
   "id": "cc638cd3",
   "metadata": {},
   "outputs": [],
   "source": [
    "# ### python environment (venv, virtualenv)\n",
    "# %pip install numpy==1.25.2\n",
    "# %pip install pandas==2.1.0\n",
    "# %pip install scikit-learn==1.3.0\n",
    "# ### conda environment (miniconda, anaconda)\n",
    "# %conda install numpy==1.25.2\n",
    "# %conda install pandas==2.1.0\n",
    "# %conda install scikit-learn==1.3.0"
   ]
  },
  {
   "cell_type": "markdown",
   "id": "c2c53d0d",
   "metadata": {},
   "source": [
    "### <a id='toc1_1_2_'></a>Vectơ hóa văn bản với TfidfVectorizer, Text Vectorization with TfidfVectorizer  [&#128522;](#toc0_)"
   ]
  },
  {
   "cell_type": "code",
   "execution_count": 2,
   "id": "f9ffeacb",
   "metadata": {},
   "outputs": [],
   "source": [
    "import pandas as pd\n",
    "from sklearn.feature_extraction.text import TfidfVectorizer\n",
    "\n",
    "train_df = pd.read_csv(\"data/train.csv\", encoding=\"utf-8\")\n",
    "test_df = pd.read_csv(\"data/test.csv\", encoding=\"utf-8\")\n",
    "\n",
    "train_x, valid_x = train_df[\"comment\"], test_df[\"comment\"]\n",
    "train_y, valid_y = train_df[\"label\"], test_df[\"label\"]\n",
    "\n",
    "vectorizer = TfidfVectorizer(max_df=0.9, min_df=0.01, max_features=5000)\n",
    "X_train = vectorizer.fit_transform(train_x)\n",
    "X_valid = vectorizer.transform(valid_x)"
   ]
  },
  {
   "cell_type": "code",
   "execution_count": 3,
   "id": "e09b6158",
   "metadata": {},
   "outputs": [
    {
     "data": {
      "text/plain": [
       "array([0.22236232, 0.20336718, 0.29694172, ..., 0.39750256, 0.19937742,\n",
       "       0.40356199])"
      ]
     },
     "execution_count": 3,
     "metadata": {},
     "output_type": "execute_result"
    }
   ],
   "source": [
    "X_train.data"
   ]
  },
  {
   "cell_type": "markdown",
   "id": "00e08ff4",
   "metadata": {},
   "source": [
    "### <a id='toc1_1_3_'></a>Phân loại với Multinomial Naive Bayes, điều chỉnh siêu tham số và đánh giá mô hình <br>Multinomial Naive Bayes Classifier, Hyperparameter Tuning and Model Evaluation  [&#128522;](#toc0_)"
   ]
  },
  {
   "cell_type": "code",
   "execution_count": 4,
   "id": "23c0318a",
   "metadata": {},
   "outputs": [
    {
     "name": "stdout",
     "output_type": "stream",
     "text": [
      "\n",
      "    Best alpha     : 0.1\n",
      "    Avg. Precision : 0.6769400110071546\n",
      "    Avg. Recall    : 0.6267244777296019\n",
      "    Avg. F1        : 0.619235836627141\n",
      "\n",
      "    \n",
      "Per class evaluation\n",
      "    Classes        : ['neg' 'pos']\n",
      "    Precision      : [0.69565217 0.65822785]\n",
      "    Recall         : [0.37209302 0.88135593]\n",
      "    F1             : [0.48484848 0.75362319]\n"
     ]
    },
    {
     "data": {
      "text/plain": [
       "<sklearn.metrics._plot.confusion_matrix.ConfusionMatrixDisplay at 0x185ff84c040>"
      ]
     },
     "execution_count": 4,
     "metadata": {},
     "output_type": "execute_result"
    },
    {
     "data": {
      "image/png": "[encoded data removed]",
      "text/plain": [
       "<Figure size 640x480 with 2 Axes>"
      ]
     },
     "metadata": {},
     "output_type": "display_data"
    }
   ],
   "source": [
    "import numpy as np\n",
    "from sklearn.metrics import (\n",
    "    ConfusionMatrixDisplay,\n",
    "    confusion_matrix,\n",
    "    precision_recall_fscore_support,\n",
    ")\n",
    "from sklearn.naive_bayes import MultinomialNB\n",
    "\n",
    "def multinomialBN_model(X_train, train_y, X_valid, valid_y, alpha=1.0):\n",
    "    model = MultinomialNB(alpha=alpha).fit(X_train, train_y)\n",
    "    y_pred = model.predict(X_valid)\n",
    "    (prec, recall, f1, class_size) = precision_recall_fscore_support(\n",
    "        valid_y, y_pred, average=None, labels=model.classes_\n",
    "    )\n",
    "    scores = {\n",
    "        \"class_order\": model.classes_,\n",
    "        \"precision\": prec,\n",
    "        \"recall\": recall,\n",
    "        \"f1\": f1,\n",
    "        \"avg prec\": np.mean(prec),\n",
    "        \"avg recall\": np.mean(recall),\n",
    "        \"avg f1\": np.mean(f1),\n",
    "    }\n",
    "    return model, scores, y_pred\n",
    "\n",
    "\n",
    "models = {}\n",
    "for alpha in [0.1, 0.2, 0.4, 0.6, 0.8, 1.0]:\n",
    "    models[alpha] = multinomialBN_model(X_train, train_y, X_valid, valid_y, alpha=alpha)\n",
    "f1_max = max([models[alpha][1][\"avg f1\"] for alpha in models])\n",
    "best_alpha, best_model, best_score, y_pred = [\n",
    "    (alpha, models[alpha][0], models[alpha][1], models[alpha][2])\n",
    "    for alpha in models\n",
    "    if models[alpha][1][\"avg f1\"] == f1_max\n",
    "][0]\n",
    "print(\n",
    "    f\"\"\"\n",
    "    Best alpha     : {best_alpha}\n",
    "    Avg. Precision : {best_score[\"avg prec\"]}\n",
    "    Avg. Recall    : {best_score[\"avg recall\"]}\n",
    "    Avg. F1        : {best_score[\"avg f1\"]}\"\"\"\n",
    ")\n",
    "print(\n",
    "    f\"\"\"\n",
    "    \\nPer class evaluation\n",
    "    Classes        : {best_score[\"class_order\"]}\n",
    "    Precision      : {best_score[\"precision\"]}\n",
    "    Recall         : {best_score[\"recall\"]}\n",
    "    F1             : {best_score[\"f1\"]}\"\"\"\n",
    ")\n",
    "\n",
    "cm = confusion_matrix(valid_y, y_pred, labels=best_model.classes_)\n",
    "disp = ConfusionMatrixDisplay(confusion_matrix=cm, display_labels=best_model.classes_)\n",
    "disp.plot()"
   ]
  },
  {
   "cell_type": "code",
   "execution_count": 5,
   "id": "9ee3426a",
   "metadata": {},
   "outputs": [
    {
     "data": {
      "text/plain": [
       "0.6666666666666666"
      ]
     },
     "execution_count": 5,
     "metadata": {},
     "output_type": "execute_result"
    }
   ],
   "source": [
    "from sklearn import metrics\n",
    "\n",
    "metrics.accuracy_score(y_pred, valid_y)"
   ]
  },
  {
   "cell_type": "markdown",
   "id": "100abf5d",
   "metadata": {},
   "source": [
    "### <a id='toc1_1_4_'></a>Dự đoán các lớp trên tập dữ liệu mới, Predicting Classes for New Data  [&#128522;](#toc0_)"
   ]
  },
  {
   "cell_type": "code",
   "execution_count": 6,
   "id": "2c4c1cd8",
   "metadata": {},
   "outputs": [],
   "source": [
    "def clean(doc):\n",
    "    import re\n",
    "    text = doc\n",
    "    # URL removal and to lower case\n",
    "    text = re.sub(r\"https?://\\S+|www\\.\\S+\", \"\", text).lower()\n",
    "    # emotion removal\n",
    "    emotion_list = [\":v\", \"=d\", \":d\", \"<3\", \":3\"]\n",
    "    for emotion in emotion_list:\n",
    "        text = text.replace(emotion, \"\")\n",
    "    # special characters removal\n",
    "    pattern = r\"[^0-9,.\\saAàÀảẢãÃáÁạẠăĂằẰẳẲẵẴắẮặẶâÂầẦẩẨẫẪấẤậẬbBcCdDđĐeEèÈẻẺẽẼéÉẹẸêÊềỀểỂễỄếẾệỆfFgGhHiIìÌỉỈĩĨíÍịỊjJkKlLmMnNoOòÒỏỎõÕóÓọỌôÔồỒổỔỗỖốỐộỘơƠờỜởỞỡỠớỚợỢpPqQrRsStTuUùÙủỦũŨúÚụỤưƯừỪửỬữỮứỨựỰvVwWxXyYỳỲỷỶỹỸýÝỵỴzZ]\"\n",
    "    text = re.sub(pattern, \" \", text)\n",
    "    # convert to standard words\n",
    "    # 8 củ -> 8 triệu, 8tr2 -> 8.2 triệu, 8tr -> 8 triệu\n",
    "    text = re.sub(r\"(\\d+)\\s+củ\", r\"\\1 triệu\", text)\n",
    "    text = re.sub(r\"(\\d+)tr(\\d+)\", r\"\\1.\\2 triệu\", text)\n",
    "    text = re.sub(r\"(\\d+)tr\", r\"\\1 triệu\", text)\n",
    "    # remove duplicate spaces\n",
    "    text = re.sub(r\"\\s+\", \" \", text)\n",
    "    return text.strip()\n"
   ]
  },
  {
   "cell_type": "code",
   "execution_count": 7,
   "id": "18024070",
   "metadata": {},
   "outputs": [
    {
     "name": "stdout",
     "output_type": "stream",
     "text": [
      "Predicted class for samples:  ['neg' 'pos' 'neg' 'pos' 'pos' 'pos' 'pos' 'pos' 'neg']\n",
      "Probabilities: \n",
      " ['neg' 'pos'] \n",
      " [[0.59779114 0.40220886]\n",
      " [0.12225589 0.87774411]\n",
      " [0.56669275 0.43330725]\n",
      " [0.31739668 0.68260332]\n",
      " [0.40604634 0.59395366]\n",
      " [0.15360176 0.84639824]\n",
      " [0.10008483 0.89991517]\n",
      " [0.33455069 0.66544931]\n",
      " [0.61964355 0.38035645]]\n"
     ]
    }
   ],
   "source": [
    "new_samples = [\n",
    "    'Con 6 nhanh nóng máy lắm, nhất là trời nóng thế này. Bác cố lên con 7 ý.',\n",
    "    'Tầm 6h được đó bác, 7- 7Pro giờ nó khá mát, pin cũng ổn + rom gốc rất mượt.',\n",
    "    'Em thấy ai cũng chê mà em dùng cũng mát, công sở nhiều khi sáng hôm trước đến trưa hôm sau mới sạc. Em không lướt fb với tiktok :D, game thì nhẹ nhàng 20 30 phút.',\n",
    "    'pixel 7 - 7 pro giờ ROM sau 1 năm tối ưu khá tốt rồi bác, gần như không có mấy cái lỗi nóng linh tinh hay loạn cảm ứng như hồi mới ra nữa. Google camera sau 1 năm cũng được update nhiều bản khá tốt rồi.\\\n",
    "    mình dùng 7 pro lock adb, dùng 3 tháng rồi thấy vậy.',\n",
    "    'Same, lỗi quá nhiệt là lý do em bán con Pixel 6 Pro đi. Mặc dù em ko hề chơi game nhé',\n",
    "    'con đó 8a nhìn cầm vừa vặn mà bạn. màn hình phẳng nữa chắc dễ cầm nắm',\n",
    "    'Ngon - bổ - khá rẻ bác nhé, độ mượt thì max level ',\n",
    "    'con này nó bo góc nhiều nhưng cái cam lại kẻ 2 vạch thẳng nên thấy lạc quẻ, làm cái cam vẫn ngang nhưng bo bên trong lại như pixel fold nhìn có thể đỡ thấy cái cam nó lạc lõng hơn',\n",
    "    'con 5a cũng tử nhiều mà, nóng quá nên toi main, bọn 6 sang năm cứ coi chừng'\n",
    "]\n",
    "sample_vects = vectorizer.transform([clean(doc) for doc in new_samples])\n",
    "print(\"Predicted class for samples: \", best_model.predict(sample_vects))\n",
    "print(\n",
    "    \"Probabilities: \\n\",\n",
    "    best_model.classes_,\n",
    "    \"\\n\",\n",
    "    best_model.predict_proba(sample_vects),\n",
    ")"
   ]
  }
 ],
 "metadata": {
  "kernelspec": {
   "display_name": "Python 3 (ipykernel)",
   "language": "python",
   "name": "python3"
  },
  "language_info": {
   "codemirror_mode": {
    "name": "ipython",
    "version": 3
   },
   "file_extension": ".py",
   "mimetype": "text/x-python",
   "name": "python",
   "nbconvert_exporter": "python",
   "pygments_lexer": "ipython3",
   "version": "3.10.11"
  }
 },
 "nbformat": 4,
 "nbformat_minor": 5
}
